{
 "cells": [
  {
   "cell_type": "code",
   "execution_count": 183,
   "metadata": {
    "collapsed": false
   },
   "outputs": [],
   "source": [
    "import graphviz as gv"
   ]
  },
  {
   "cell_type": "code",
   "execution_count": 184,
   "metadata": {
    "collapsed": false
   },
   "outputs": [
    {
     "data": {
      "text/plain": [
       "'The next thing on the todo list is to make different colors/styles for extinct or extant species.\\nMaybe add graph title to function, so the label could be \"Permian\" or \"Mammals\" or something else'"
      ]
     },
     "execution_count": 184,
     "metadata": {},
     "output_type": "execute_result"
    }
   ],
   "source": [
    "'''The next thing on the todo list is to make different colors/styles for extinct or extant species.\n",
    "Maybe add graph title to function, so the label could be \"Permian\" or \"Mammals\" or something else'''"
   ]
  },
  {
   "cell_type": "code",
   "execution_count": 185,
   "metadata": {
    "collapsed": true
   },
   "outputs": [],
   "source": [
    "#We'll use functools to make things a little quicker.\n",
    "import functools\n",
    "graph = functools.partial(gv.Graph, format='svg')\n",
    "digraph = functools.partial(gv.Digraph, format='svg')"
   ]
  },
  {
   "cell_type": "code",
   "execution_count": 186,
   "metadata": {
    "collapsed": true
   },
   "outputs": [],
   "source": [
    "style = {\n",
    "    'graph': {\n",
    "        'label': 'Tree of Life',\n",
    "        'labelloc' : 't',\n",
    "        'fontsize': '16',\n",
    "        'fontcolor': 'black',\n",
    "        'bgcolor': 'white',\n",
    "        'rankdir': 'TB',\n",
    "    },\n",
    "    'nodes': {\n",
    "        'fontname': 'Helvetica',\n",
    "        'shape': 'hexagon',\n",
    "        'fontcolor': 'black',\n",
    "        'color': 'white',\n",
    "        'style': 'filled',\n",
    "        'fillcolor': 'green',\n",
    "    },\n",
    "    'edges': {\n",
    "        'style': 'dashed',\n",
    "        'color': 'black',\n",
    "        'arrowhead': 'open',\n",
    "        'fontname': 'Courier',\n",
    "        'fontsize': '12',\n",
    "        'fontcolor': 'white',\n",
    "    }\n",
    "}"
   ]
  },
  {
   "cell_type": "code",
   "execution_count": 187,
   "metadata": {
    "collapsed": true
   },
   "outputs": [],
   "source": [
    "#Here we'll build some helper functions\n",
    "def add_nodes(graph, nodes):\n",
    "    for n in nodes:\n",
    "        if isinstance(n, tuple):\n",
    "            graph.node(n[0], **n[1])\n",
    "        else:\n",
    "            graph.node(n)\n",
    "    return graph\n",
    "\n",
    "def add_edges(graph, edges):\n",
    "    for e in edges:\n",
    "        if isinstance(e[0], tuple):\n",
    "            graph.edge(*e[0], **e[1])\n",
    "        else:\n",
    "            graph.edge(*e)\n",
    "    return graph\n",
    "\n",
    "def apply_style(graph, style):\n",
    "    graph.graph_attr.update(\n",
    "        ('graph' in style and style['graph']) or {}\n",
    "    )\n",
    "    graph.node_attr.update(\n",
    "        ('nodes' in style and style['nodes']) or {}\n",
    "    )\n",
    "    graph.edge_attr.update(\n",
    "        ('edges' in style and style['edges']) or {}\n",
    "    )\n",
    "    return graph\n"
   ]
  },
  {
   "cell_type": "code",
   "execution_count": 188,
   "metadata": {
    "collapsed": false
   },
   "outputs": [],
   "source": [
    "#Now let's create a tuple for each clade which lists its name, parent clade, and rough age or origination\n",
    "precambrian = ('Pre-cambrian life', None, 600) # 550-620 http://sci.waikato.ac.nz/evolution/AnimalEvolution.shtml\n",
    "insects = ('Insects', precambrian[0], 480) # Wiki: Evolution of insects\n",
    "vertebrates = ('Vertebrates', precambrian[0], 525) # Wiki: Vertebrate\n",
    "sharks = ('Sharks', vertebrates[0], 450) # 425-455 http://www.elasmo-research.org/education/evolution/geologic_time.htm \n",
    "tetrapods = ('Tetrapods', vertebrates[0], 390) #Wiki: Evolution of tetrapods\n",
    "amniotes = ('Amniotes', tetrapods[0], 340) #Wiki: Tetrapod\n",
    "amphibians = ('Amphibians', tetrapods[0], 370) #Wiki: Amphibian\n",
    "sauropsids = ('Sauropsids', amniotes[0], 320) #Wiki: Sauropsida\n",
    "synapsids = ('Synapsids', amniotes[0], 320) #Wiki: Evolution of mammals\n",
    "archosaurs = ('Archosaurs', sauropsids[0], 250) #Wiki: Archosaur says late Permian or early Triassic\n",
    "mammals = ('Mammals', synapsids[0], 180) #Estimate from tree of life\n",
    "therian = ('Therian mammals', mammals[0], 170) #Used Juramaia date (Wiki: Juramaia) + 10 million years (genetic analysis suggets older)\n",
    "monotremes = ('Monotremes', mammals[0], 64) #Estimate from tree of life\n",
    "placenta = ('Placenta mammals', therian[0], 160) #Estimate from tree of life\n",
    "marsupials = ('Marsupials', therian[0], 160) #Estimate from tree of life\n",
    "echidnas = ('Echidnas', monotremes[0], 30) #Wiki: Genetic evidence has determined that echidnas diverged from the platypus lineage as recently as 19-48M,\n",
    "#when they made their transition from semi-aquatic to terrestrial lifestyle.\n"
   ]
  },
  {
   "cell_type": "code",
   "execution_count": 189,
   "metadata": {
    "collapsed": false
   },
   "outputs": [],
   "source": [
    "#Make a list of all the nodes\n",
    "all_nodes = {precambrian, vertebrates, insects, sharks, tetrapods, amniotes, amphibians, sauropsids, archosaurs, mammals,\n",
    "             synapsids, therian, monotremes, placenta, marsupials, echidnas}\n",
    "\n",
    "# Now let's make a nested dictionary for our Tree of Life (tol)\n",
    "tol = {node[0] : {'Age': node[2], 'Parent' : node[1]} for node in all_nodes}"
   ]
  },
  {
   "cell_type": "code",
   "execution_count": 190,
   "metadata": {
    "collapsed": false
   },
   "outputs": [],
   "source": [
    "def node_manager(date, nodes=all_nodes, parent=precambrian):\n",
    "    '''This function allows you to find all the nodes (and their respective edges) given a particular date.\n",
    "    \n",
    "    Date is in millions of years ago.'''\n",
    "    #Find the date of the common ancestor for this clade\n",
    "    keeper_nodes=[]\n",
    "    edges = []\n",
    "    #for x in range(len(nodes)):\n",
    "        \n",
    "    for node in nodes:\n",
    "        if node[2] > date and node[2] < parent[2]: #if the node's date is older than the date selected, but\n",
    "            #younger than the parent node, add it to the keeper list\n",
    "            keeper_nodes.append(node[0])\n",
    "            try:\n",
    "                edges.append(tuple([node[1], node[0]]))\n",
    "            except TypeError:\n",
    "                print(\"Edge {} is giving you a NoneType\".format(node))    \n",
    "    return (keeper_nodes, edges)"
   ]
  },
  {
   "cell_type": "code",
   "execution_count": 191,
   "metadata": {
    "collapsed": false
   },
   "outputs": [],
   "source": [
    "nodes, edges = node_manager(50)"
   ]
  },
  {
   "cell_type": "code",
   "execution_count": 192,
   "metadata": {
    "collapsed": false
   },
   "outputs": [],
   "source": [
    "treeoflife = add_edges(\n",
    "    add_nodes(digraph(), nodes),\n",
    "    edges\n",
    ")"
   ]
  },
  {
   "cell_type": "code",
   "execution_count": 193,
   "metadata": {
    "collapsed": false
   },
   "outputs": [
    {
     "data": {
      "text/plain": [
       "'img/tol.svg'"
      ]
     },
     "execution_count": 193,
     "metadata": {},
     "output_type": "execute_result"
    }
   ],
   "source": [
    "treeoflife = apply_style(treeoflife, style)\n",
    "treeoflife.render('img/tol')"
   ]
  },
  {
   "cell_type": "code",
   "execution_count": 137,
   "metadata": {
    "collapsed": false
   },
   "outputs": [],
   "source": []
  }
 ],
 "metadata": {
  "anaconda-cloud": {},
  "kernelspec": {
   "display_name": "Python [conda root]",
   "language": "python",
   "name": "conda-root-py"
  },
  "language_info": {
   "codemirror_mode": {
    "name": "ipython",
    "version": 3
   },
   "file_extension": ".py",
   "mimetype": "text/x-python",
   "name": "python",
   "nbconvert_exporter": "python",
   "pygments_lexer": "ipython3",
   "version": "3.5.2"
  }
 },
 "nbformat": 4,
 "nbformat_minor": 1
}
