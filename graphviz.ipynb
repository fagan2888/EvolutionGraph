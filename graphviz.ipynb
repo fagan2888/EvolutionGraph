{
 "cells": [
  {
   "cell_type": "code",
   "execution_count": 47,
   "metadata": {
    "collapsed": false
   },
   "outputs": [],
   "source": [
    "import graphviz as gv"
   ]
  },
  {
   "cell_type": "code",
   "execution_count": 48,
   "metadata": {
    "collapsed": false
   },
   "outputs": [
    {
     "data": {
      "text/plain": [
       "'The next thing on the todo list is to make different colors/styles for extinct or extant species'"
      ]
     },
     "execution_count": 48,
     "metadata": {},
     "output_type": "execute_result"
    }
   ],
   "source": [
    "'''The next thing on the todo list is to make different colors/styles for extinct or extant species'''"
   ]
  },
  {
   "cell_type": "code",
   "execution_count": 49,
   "metadata": {
    "collapsed": true
   },
   "outputs": [],
   "source": [
    "#We'll use functools to make things a little quicker.\n",
    "import functools\n",
    "graph = functools.partial(gv.Graph, format='svg')\n",
    "digraph = functools.partial(gv.Digraph, format='svg')"
   ]
  },
  {
   "cell_type": "code",
   "execution_count": 50,
   "metadata": {
    "collapsed": true
   },
   "outputs": [],
   "source": [
    "style = {\n",
    "    'graph': {\n",
    "        'label': 'Tree of Life',\n",
    "        'labelloc' : 't',\n",
    "        'fontsize': '16',\n",
    "        'fontcolor': 'black',\n",
    "        'bgcolor': 'white',\n",
    "        'rankdir': 'TB',\n",
    "    },\n",
    "    'nodes': {\n",
    "        'fontname': 'Helvetica',\n",
    "        'shape': 'hexagon',\n",
    "        'fontcolor': 'black',\n",
    "        'color': 'white',\n",
    "        'style': 'filled',\n",
    "        'fillcolor': 'green',\n",
    "    },\n",
    "    'edges': {\n",
    "        'style': 'dashed',\n",
    "        'color': 'black',\n",
    "        'arrowhead': 'open',\n",
    "        'fontname': 'Courier',\n",
    "        'fontsize': '12',\n",
    "        'fontcolor': 'white',\n",
    "    }\n",
    "}"
   ]
  },
  {
   "cell_type": "code",
   "execution_count": 51,
   "metadata": {
    "collapsed": true
   },
   "outputs": [],
   "source": [
    "#Here we'll build some helper functions\n",
    "def add_nodes(graph, nodes):\n",
    "    for n in nodes:\n",
    "        if isinstance(n, tuple):\n",
    "            graph.node(n[0], **n[1])\n",
    "        else:\n",
    "            graph.node(n)\n",
    "    return graph\n",
    "\n",
    "def add_edges(graph, edges):\n",
    "    for e in edges:\n",
    "        if isinstance(e[0], tuple):\n",
    "            graph.edge(*e[0], **e[1])\n",
    "        else:\n",
    "            graph.edge(*e)\n",
    "    return graph\n",
    "\n",
    "def apply_style(graph, style):\n",
    "    graph.graph_attr.update(\n",
    "        ('graph' in style and style['graph']) or {}\n",
    "    )\n",
    "    graph.node_attr.update(\n",
    "        ('nodes' in style and style['nodes']) or {}\n",
    "    )\n",
    "    graph.edge_attr.update(\n",
    "        ('edges' in style and style['edges']) or {}\n",
    "    )\n",
    "    return graph\n"
   ]
  },
  {
   "cell_type": "code",
   "execution_count": 83,
   "metadata": {
    "collapsed": true
   },
   "outputs": [],
   "source": [
    "precambrian = ('Pre-cambrian life', None, 600) # Confirmed\n",
    "insects = ('Insects', precambrian[0], 480) # Confirmed\n",
    "vertebrates = ('Vertebrates', precambrian[0], 525) # Confirmed\n",
    "sharks = ('Sharks', vertebrates[0], 450) # Confirmed\n",
    "tetrapods = ('Tetrapods', vertebrates[0], 340)\n",
    "amniotes = ('Amniotes', tetrapods[0], 322)\n",
    "amphibians = ('Amphibians', tetrapods[0], 333)\n",
    "sauropsids = ('Sauropsids', amniotes[0], 300)\n",
    "synapsids = ('Synapsids', amniotes[0], 180)\n",
    "archosaurs = ('Archosaurs', sauropsids[0], 240)\n",
    "therian = ('Therian mammals', synapsids[0], 160)"
   ]
  },
  {
   "cell_type": "code",
   "execution_count": 84,
   "metadata": {
    "collapsed": false
   },
   "outputs": [],
   "source": [
    "#Make a list of all nodes in the form [name, parent, date in millions of years ago] #Make them tuples, although they could be lists\n",
    "all_nodes = [precambrian, vertebrates, insects, sharks, tetrapods, amniotes, amphibians, sauropsids, archosaurs,\n",
    "             synapsids, therian]"
   ]
  },
  {
   "cell_type": "code",
   "execution_count": 85,
   "metadata": {
    "collapsed": false
   },
   "outputs": [],
   "source": [
    "def node_manager(date, nodes=all_nodes, parent=precambrian):\n",
    "    '''This function allows you to find all the nodes (and their respective edges) given a particular date.\n",
    "    \n",
    "    Date is in millions of years ago.'''\n",
    "    #Find the date of the common ancestor for this clade\n",
    "    keeper_nodes=[]\n",
    "    edges = []\n",
    "    #for x in range(len(nodes)):\n",
    "        \n",
    "    for node in nodes:\n",
    "        if node[2] > date and node[2] < parent[2]: #if the node's date is older than the date selected, but\n",
    "            #younder than the parent node, add it to the keeper list\n",
    "            keeper_nodes.append(node[0])\n",
    "            print('node {}'.format(node))\n",
    "            print('node1 {}'.format(node[1]))\n",
    "            print('node0 {}'.format(node[0]))\n",
    "            #try:\n",
    "            #    print(node[0] + \"', {'xlabel': \" + str(node[2]))\n",
    "            #except TypeError:\n",
    "            #    print(\"Node {} is giving you a NoneType\".format(node))\n",
    "            #Then, for the edges, you'll want a tuple in the form (parent, self)\n",
    "            try:\n",
    "                #print(node[1] + node[0])\n",
    "                edges.append(tuple([node[1], node[0]]))\n",
    "            except TypeError:\n",
    "                print(\"Edge {} is giving you a NoneType\".format(node))    \n",
    "    return (keeper_nodes, edges)"
   ]
  },
  {
   "cell_type": "code",
   "execution_count": 86,
   "metadata": {
    "collapsed": false
   },
   "outputs": [
    {
     "name": "stdout",
     "output_type": "stream",
     "text": [
      "node ('Vertebrates', 'Pre-cambrian life', 525)\n",
      "node1 Pre-cambrian life\n",
      "node0 Vertebrates\n",
      "node ('Insects', 'Pre-cambrian life', 480)\n",
      "node1 Pre-cambrian life\n",
      "node0 Insects\n",
      "node ('Sharks', 'Vertebrates', 450)\n",
      "node1 Vertebrates\n",
      "node0 Sharks\n",
      "node ('Tetrapods', 'Vertebrates', 340)\n",
      "node1 Vertebrates\n",
      "node0 Tetrapods\n",
      "node ('Amniotes', 'Tetrapods', 322)\n",
      "node1 Tetrapods\n",
      "node0 Amniotes\n",
      "node ('Amphibians', 'Tetrapods', 333)\n",
      "node1 Tetrapods\n",
      "node0 Amphibians\n"
     ]
    }
   ],
   "source": [
    "nodes, edges = node_manager(300)"
   ]
  },
  {
   "cell_type": "code",
   "execution_count": 87,
   "metadata": {
    "collapsed": false
   },
   "outputs": [],
   "source": [
    "treeoflife = add_edges(\n",
    "    add_nodes(digraph(), nodes),\n",
    "    edges\n",
    ")"
   ]
  },
  {
   "cell_type": "code",
   "execution_count": 88,
   "metadata": {
    "collapsed": false
   },
   "outputs": [
    {
     "data": {
      "text/plain": [
       "'img/tol.svg'"
      ]
     },
     "execution_count": 88,
     "metadata": {},
     "output_type": "execute_result"
    }
   ],
   "source": [
    "treeoflife = apply_style(treeoflife, style)\n",
    "treeoflife.render('img/tol')"
   ]
  },
  {
   "cell_type": "code",
   "execution_count": 82,
   "metadata": {
    "collapsed": false
   },
   "outputs": [
    {
     "data": {
      "text/plain": [
       "[('Pre-cambrian life', None, 600),\n",
       " ('Vertebrates', ('Pre-cambrian life', None, 600), 525),\n",
       " ('Insects', ('Pre-cambrian life', None, 600), 480),\n",
       " ('Sharks', ('Vertebrates', ('Pre-cambrian life', None, 600), 525), 450),\n",
       " ('Tetrapods', ('Vertebrates', ('Pre-cambrian life', None, 600), 525), 340),\n",
       " ('Amniotes',\n",
       "  ('Tetrapods', ('Vertebrates', ('Pre-cambrian life', None, 600), 525), 340),\n",
       "  322),\n",
       " ('Amphibians',\n",
       "  ('Tetrapods', ('Vertebrates', ('Pre-cambrian life', None, 600), 525), 340),\n",
       "  333),\n",
       " ('Sauropsids',\n",
       "  ('Amniotes',\n",
       "   ('Tetrapods', ('Vertebrates', ('Pre-cambrian life', None, 600), 525), 340),\n",
       "   322),\n",
       "  300),\n",
       " ('Archosaurs',\n",
       "  ('Sauropsids',\n",
       "   ('Amniotes',\n",
       "    ('Tetrapods', ('Vertebrates', ('Pre-cambrian life', None, 600), 525), 340),\n",
       "    322),\n",
       "   300),\n",
       "  240),\n",
       " ('Synapsids',\n",
       "  ('Amniotes',\n",
       "   ('Tetrapods', ('Vertebrates', ('Pre-cambrian life', None, 600), 525), 340),\n",
       "   322),\n",
       "  180),\n",
       " ('Therian mammals',\n",
       "  ('Synapsids',\n",
       "   ('Amniotes',\n",
       "    ('Tetrapods', ('Vertebrates', ('Pre-cambrian life', None, 600), 525), 340),\n",
       "    322),\n",
       "   180),\n",
       "  160)]"
      ]
     },
     "execution_count": 82,
     "metadata": {},
     "output_type": "execute_result"
    }
   ],
   "source": [
    "all_nodes"
   ]
  },
  {
   "cell_type": "code",
   "execution_count": null,
   "metadata": {
    "collapsed": true
   },
   "outputs": [],
   "source": []
  }
 ],
 "metadata": {
  "anaconda-cloud": {},
  "kernelspec": {
   "display_name": "Python [conda root]",
   "language": "python",
   "name": "conda-root-py"
  },
  "language_info": {
   "codemirror_mode": {
    "name": "ipython",
    "version": 3
   },
   "file_extension": ".py",
   "mimetype": "text/x-python",
   "name": "python",
   "nbconvert_exporter": "python",
   "pygments_lexer": "ipython3",
   "version": "3.5.2"
  }
 },
 "nbformat": 4,
 "nbformat_minor": 1
}
